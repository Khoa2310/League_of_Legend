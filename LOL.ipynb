{
 "cells": [
  {
   "cell_type": "code",
   "execution_count": null,
   "id": "40042ac6-60ac-4d92-ad9b-91f67bb15cb2",
   "metadata": {},
   "outputs": [],
   "source": [
    "import json\n",
    "import numpy as np\n",
    "import numpy as np\n",
    "import pandas as pd\n",
    "import requests\n",
    "import tkinter"
   ]
  },
  {
   "cell_type": "markdown",
   "id": "c193e873-8de5-4014-8202-12c0a5211e6a",
   "metadata": {},
   "source": [
    "#### Call for puuid"
   ]
  },
  {
   "cell_type": "code",
   "execution_count": 207,
   "id": "89771d4b-dfdc-45ce-a562-4bc65c67f435",
   "metadata": {},
   "outputs": [],
   "source": [
    "import tkinter as tk\n",
    " \n",
    "root = tk.Tk()\n",
    "root.geometry(\"500x300\")\n",
    "root.title(\"Information Portal\")\n",
    "\n",
    "#------ Name & ID\n",
    "label = tk.Label(root, text=\"Account Name:\")               # Account Username\n",
    "label.grid(row=1, column = 0, padx = 5, pady = 5, sticky = W)\n",
    "label = tk.Label(root, text=\"Account ID:\")                 # Account ID\n",
    "label.grid(row=2, column = 0, padx = 5, pady = 5, sticky = W)\n",
    "label = tk.Label(root, text=\"Select your Region:\")\n",
    "label.grid(row=3, column = 0, padx = 5, pady = 5, sticky = W)\n",
    "\n",
    "account_name = tk.StringVar(root)\n",
    "account_id = tk.StringVar(root)\n",
    "\n",
    "textbox = tk.Entry(root, textvariable=account_name)\n",
    "textbox.grid(row=1, column=2, padx = 5, pady = 5)\n",
    "textbox = tk.Entry(root, textvariable=account_id)\n",
    "textbox.grid(row=2, column=2, padx = 5, pady = 5, sticky = W)\n",
    "\n",
    "region = tk.StringVar(root)\n",
    "options = [ \n",
    "    \"AMERICAS\", \n",
    "    \"EUROPE\", \n",
    "    \"ASIA\", \n",
    "    \"ESPORTS\", \n",
    "] \n",
    "option_menu = OptionMenu(root, region, *options)\n",
    "option_menu.grid(row=3,column=2, padx = 5, pady = 5, sticky = W)\n",
    "\n",
    "def print_data():\n",
    "    emptylabel.config(text=\"Account name:\"+account_name.get()+\"\\nAccount ID:\"+account_id.get()+\"\\nYour region:\"+region.get())\n",
    "    print(\"Account name: \",account_name.get(),\"\\nUser ID:\",account_id.get(), \"\\nRegion:\",region.get())\n",
    " \n",
    "button = tk.Button(root, text=\"Enter\", command=print_data,fg='blue')   # Enter button\n",
    "button.grid(row=4, column=2, padx = 5, pady = 5, sticky = W)\n",
    "\n",
    "emptylabel=Label(root, fg='green')\n",
    "emptylabel.grid(row=5, column = 2, sticky = W, padx = 5, pady=5)\n",
    "\n",
    "root.mainloop()"
   ]
  },
  {
   "cell_type": "code",
   "execution_count": 186,
   "id": "de5cef13-8e89-4963-afbf-882195b4c6de",
   "metadata": {},
   "outputs": [],
   "source": [
    "#### Retrieve data"
   ]
  },
  {
   "cell_type": "markdown",
   "id": "33ad26af-2279-4b28-ab2b-b45fb9cac452",
   "metadata": {},
   "source": [
    "##### ?"
   ]
  },
  {
   "cell_type": "code",
   "execution_count": null,
   "id": "a91a77f6-7c3d-4dd6-9cb4-048ac6429067",
   "metadata": {},
   "outputs": [],
   "source": []
  },
  {
   "cell_type": "code",
   "execution_count": null,
   "id": "ab725a35-20a3-4677-802e-f7cc28fef047",
   "metadata": {},
   "outputs": [],
   "source": []
  }
 ],
 "metadata": {
  "kernelspec": {
   "display_name": "Python 3 (ipykernel)",
   "language": "python",
   "name": "python3"
  },
  "language_info": {
   "codemirror_mode": {
    "name": "ipython",
    "version": 3
   },
   "file_extension": ".py",
   "mimetype": "text/x-python",
   "name": "python",
   "nbconvert_exporter": "python",
   "pygments_lexer": "ipython3",
   "version": "3.12.3"
  }
 },
 "nbformat": 4,
 "nbformat_minor": 5
}
